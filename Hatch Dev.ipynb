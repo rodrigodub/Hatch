{
 "cells": [
  {
   "cell_type": "markdown",
   "metadata": {},
   "source": [
    "# Read contents of APF file"
   ]
  },
  {
   "cell_type": "code",
   "execution_count": 1,
   "metadata": {},
   "outputs": [],
   "source": [
    "pat = 'OriginalPatterns/SDolomite.apf'"
   ]
  },
  {
   "cell_type": "code",
   "execution_count": 3,
   "metadata": {},
   "outputs": [],
   "source": [
    "apffile = open(pat, 'r')"
   ]
  },
  {
   "cell_type": "code",
   "execution_count": 4,
   "metadata": {},
   "outputs": [],
   "source": [
    "apf = []"
   ]
  },
  {
   "cell_type": "code",
   "execution_count": 5,
   "metadata": {},
   "outputs": [
    {
     "data": {
      "text/plain": [
       "[None,\n",
       " None,\n",
       " None,\n",
       " None,\n",
       " None,\n",
       " None,\n",
       " None,\n",
       " None,\n",
       " None,\n",
       " None,\n",
       " None,\n",
       " None,\n",
       " None,\n",
       " None,\n",
       " None,\n",
       " None,\n",
       " None,\n",
       " None,\n",
       " None,\n",
       " None,\n",
       " None,\n",
       " None,\n",
       " None,\n",
       " None,\n",
       " None,\n",
       " None,\n",
       " None,\n",
       " None,\n",
       " None]"
      ]
     },
     "execution_count": 5,
     "metadata": {},
     "output_type": "execute_result"
    }
   ],
   "source": [
    "[apf.append(i) for i in apffile]"
   ]
  },
  {
   "cell_type": "code",
   "execution_count": 6,
   "metadata": {},
   "outputs": [
    {
     "name": "stdout",
     "output_type": "stream",
     "text": [
      "['7.946667, 2.693333, 28, 1\\n', '0.01333333, 0.04, 1\\n', '7.920001, 0.01333333, 0\\n', '0, 1.386667, 1\\n', '7.946667, 1.4, 0\\n', '2.613333, 0.05333334, 1\\n', '2.6, 1.413333, 0\\n', '5.226667, 0.04, 1\\n', '5.24, 1.386667, 0\\n', '7.906667, 0, 1\\n', '7.933333, 1.373333, 0\\n', '1.466667, 1.373333, 1\\n', '1.453333, 2.653333, 0\\n', '4.066667, 1.36, 1\\n', '4.106667, 2.653333, 0\\n', '6.746667, 1.373333, 1\\n', '6.773333, 2.64, 0\\n', '1.413333, 0.6266667, 1\\n', '1.426667, 0.6266667, 0\\n', '4.026667, 0.7066667, 1\\n', '4.04, 0.7066667, 0\\n', '6.733334, 0.68, 1\\n', '6.746667, 0.68, 0\\n', '0.04, 2.08, 1\\n', '0.04, 2.08, 0\\n', '2.573334, 2.093333, 1\\n', '2.573334, 2.093333, 0\\n', '5.226667, 2.106667, 1\\n', '5.226667, 2.106667, 0\\n']\n"
     ]
    }
   ],
   "source": [
    "print(apf)"
   ]
  },
  {
   "cell_type": "code",
   "execution_count": null,
   "metadata": {},
   "outputs": [],
   "source": []
  }
 ],
 "metadata": {
  "kernelspec": {
   "display_name": "Python 3",
   "language": "python",
   "name": "python3"
  },
  "language_info": {
   "codemirror_mode": {
    "name": "ipython",
    "version": 3
   },
   "file_extension": ".py",
   "mimetype": "text/x-python",
   "name": "python",
   "nbconvert_exporter": "python",
   "pygments_lexer": "ipython3",
   "version": "3.7.0"
  }
 },
 "nbformat": 4,
 "nbformat_minor": 2
}
