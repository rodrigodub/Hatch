{
 "cells": [
  {
   "cell_type": "markdown",
   "metadata": {},
   "source": [
    "# Read contents of APF file"
   ]
  },
  {
   "cell_type": "code",
   "execution_count": null,
   "metadata": {},
   "outputs": [],
   "source": [
    "pat = 'OriginalPatterns/SDolomite.apf'"
   ]
  },
  {
   "cell_type": "code",
   "execution_count": 16,
   "metadata": {},
   "outputs": [],
   "source": [
    "pat = 'OriginalPatterns/ACAmphibol.apf'"
   ]
  },
  {
   "cell_type": "code",
   "execution_count": 21,
   "metadata": {},
   "outputs": [],
   "source": [
    "pat = 'OriginalPatterns/PSanorth.apf'"
   ]
  },
  {
   "cell_type": "code",
   "execution_count": 22,
   "metadata": {},
   "outputs": [],
   "source": [
    "apffile = open(pat, 'r')"
   ]
  },
  {
   "cell_type": "code",
   "execution_count": 23,
   "metadata": {},
   "outputs": [],
   "source": [
    "apf = []"
   ]
  },
  {
   "cell_type": "code",
   "execution_count": 24,
   "metadata": {},
   "outputs": [
    {
     "data": {
      "text/plain": [
       "[None,\n",
       " None,\n",
       " None,\n",
       " None,\n",
       " None,\n",
       " None,\n",
       " None,\n",
       " None,\n",
       " None,\n",
       " None,\n",
       " None,\n",
       " None,\n",
       " None,\n",
       " None,\n",
       " None,\n",
       " None,\n",
       " None,\n",
       " None,\n",
       " None]"
      ]
     },
     "execution_count": 24,
     "metadata": {},
     "output_type": "execute_result"
    }
   ],
   "source": [
    "[apf.append(i.replace('\\n','').replace(' ','').split(',')) for i in apffile]"
   ]
  },
  {
   "cell_type": "code",
   "execution_count": 25,
   "metadata": {},
   "outputs": [
    {
     "name": "stdout",
     "output_type": "stream",
     "text": [
      "['12.3375', '12.20625', '18', '1']\n",
      "['5.868512', '1.138873', '1']\n",
      "['5.795105', '3.655904', '0']\n",
      "['2.42561', '2.36364', '1']\n",
      "['2.46947', '2.375557', '0']\n",
      "['9.244733', '2.468509', '1']\n",
      "['9.244647', '2.462267', '0']\n",
      "['2.312342', '6.136106', '1']\n",
      "['2.318341', '6.117296', '0']\n",
      "['5.75119', '5.079961', '1']\n",
      "['5.732099', '7.452687', '0']\n",
      "['9.181885', '6.277777', '1']\n",
      "['9.188209', '6.283939', '0']\n",
      "['5.685095', '8.639537', '1']\n",
      "['5.63609', '11.11255', '0']\n",
      "['2.240332', '9.720733', '1']\n",
      "['2.277783', '9.720245', '0']\n",
      "['9.252795', '9.810599', '1']\n",
      "['9.258392', '9.760579', '0']\n"
     ]
    },
    {
     "data": {
      "text/plain": [
       "[None,\n",
       " None,\n",
       " None,\n",
       " None,\n",
       " None,\n",
       " None,\n",
       " None,\n",
       " None,\n",
       " None,\n",
       " None,\n",
       " None,\n",
       " None,\n",
       " None,\n",
       " None,\n",
       " None,\n",
       " None,\n",
       " None,\n",
       " None,\n",
       " None]"
      ]
     },
     "execution_count": 25,
     "metadata": {},
     "output_type": "execute_result"
    }
   ],
   "source": [
    "[print(i) for i in apf]"
   ]
  },
  {
   "cell_type": "code",
   "execution_count": null,
   "metadata": {},
   "outputs": [],
   "source": [
    "# apf[0].replace('\\n','').split(',')"
   ]
  },
  {
   "cell_type": "code",
   "execution_count": null,
   "metadata": {},
   "outputs": [],
   "source": [
    "apf[-1:]"
   ]
  },
  {
   "cell_type": "code",
   "execution_count": null,
   "metadata": {},
   "outputs": [],
   "source": [
    "apf[-1]"
   ]
  },
  {
   "cell_type": "markdown",
   "metadata": {},
   "source": [
    "## len(apf)"
   ]
  },
  {
   "cell_type": "code",
   "execution_count": null,
   "metadata": {},
   "outputs": [],
   "source": [
    "apf[len(apf)-1]"
   ]
  },
  {
   "cell_type": "code",
   "execution_count": null,
   "metadata": {},
   "outputs": [],
   "source": []
  },
  {
   "cell_type": "markdown",
   "metadata": {},
   "source": [
    "# Create SVG File"
   ]
  },
  {
   "cell_type": "code",
   "execution_count": 5,
   "metadata": {},
   "outputs": [],
   "source": [
    "import svgwrite"
   ]
  },
  {
   "cell_type": "code",
   "execution_count": 13,
   "metadata": {},
   "outputs": [],
   "source": [
    "# create drawing\n",
    "dwg = svgwrite.Drawing('test.svg')"
   ]
  },
  {
   "cell_type": "code",
   "execution_count": null,
   "metadata": {},
   "outputs": [],
   "source": [
    "# first try\n",
    "def drawsvg(drawing, hatch):\n",
    "    for line in range(0, len(hatch)-2):\n",
    "        drawing.add(drawing.line((hatch[line][0], hatch[line][1]), (hatch[line+1][0], hatch[line+1][1]), stroke=svgwrite.rgb(255,0,0,'%')))\n",
    "    drawing.save()"
   ]
  },
  {
   "cell_type": "code",
   "execution_count": null,
   "metadata": {},
   "outputs": [],
   "source": [
    "# second try\n",
    "def drawsvg(drawing, hatch):\n",
    "    for line in range(0, len(hatch)-2):\n",
    "        drawing.add(drawing.line((float(hatch[line][0])*10, float(hatch[line][1])*10), (float(hatch[line+1][0])*10, float(hatch[line+1][1])*10), stroke=svgwrite.rgb(255,0,0,'%')))\n",
    "    drawing.save()"
   ]
  },
  {
   "cell_type": "code",
   "execution_count": 7,
   "metadata": {},
   "outputs": [],
   "source": [
    "# third try\n",
    "def drawsvg(drawing, hatch):\n",
    "    for line in range(0, len(hatch)-2):\n",
    "        if hatch[line][2] == '1':\n",
    "            drawing.add(drawing.line((float(hatch[line][0])*50, float(hatch[line][1])*50), (float(hatch[line+1][0])*50, float(hatch[line+1][1])*50), stroke=svgwrite.rgb(0,0,0,'%')))\n",
    "    drawing.save()"
   ]
  },
  {
   "cell_type": "code",
   "execution_count": 14,
   "metadata": {},
   "outputs": [],
   "source": [
    "drawsvg(dwg, apf)"
   ]
  },
  {
   "cell_type": "code",
   "execution_count": null,
   "metadata": {},
   "outputs": [],
   "source": [
    "apf"
   ]
  },
  {
   "cell_type": "code",
   "execution_count": null,
   "metadata": {},
   "outputs": [],
   "source": [
    "apf[2][2] != '0'"
   ]
  },
  {
   "cell_type": "code",
   "execution_count": null,
   "metadata": {},
   "outputs": [],
   "source": []
  }
 ],
 "metadata": {
  "kernelspec": {
   "display_name": "Python 3",
   "language": "python",
   "name": "python3"
  },
  "language_info": {
   "codemirror_mode": {
    "name": "ipython",
    "version": 3
   },
   "file_extension": ".py",
   "mimetype": "text/x-python",
   "name": "python",
   "nbconvert_exporter": "python",
   "pygments_lexer": "ipython3",
   "version": "3.7.0"
  }
 },
 "nbformat": 4,
 "nbformat_minor": 2
}
